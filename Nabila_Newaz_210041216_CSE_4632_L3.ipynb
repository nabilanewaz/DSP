{
  "nbformat": 4,
  "nbformat_minor": 0,
  "metadata": {
    "colab": {
      "provenance": [],
      "include_colab_link": true
    },
    "kernelspec": {
      "name": "python3",
      "display_name": "Python 3"
    },
    "language_info": {
      "name": "python"
    }
  },
  "cells": [
    {
      "cell_type": "markdown",
      "metadata": {
        "id": "view-in-github",
        "colab_type": "text"
      },
      "source": [
        "<a href=\"https://colab.research.google.com/github/nabilanewaz/DSP/blob/main/Nabila_Newaz_210041216_CSE_4632_L3.ipynb\" target=\"_parent\"><img src=\"https://colab.research.google.com/assets/colab-badge.svg\" alt=\"Open In Colab\"/></a>"
      ]
    },
    {
      "cell_type": "markdown",
      "source": [
        "# **Lab 3**<br>\n",
        "\n",
        "We have already implemented convolution in our previous lab. In today's lab, we will be implementing inverse convolution function that takes the output signal $y$ and the impulse response $h$ and returns the input signal $x$.\n",
        "\n",
        "##Task 1\n",
        "Complete the following function named inverse_conv():"
      ],
      "metadata": {
        "id": "VkCS009WqVSx"
      }
    },
    {
      "cell_type": "code",
      "execution_count": null,
      "metadata": {
        "id": "Oi7q7MihqK6X",
        "colab": {
          "base_uri": "https://localhost:8080/"
        },
        "outputId": "59eaa031-fb6e-43b0-9c33-8e26270dbe8c"
      },
      "outputs": [
        {
          "output_type": "stream",
          "name": "stdout",
          "text": [
            "[ 4. -3.  2.  2.  3.  4.]\n"
          ]
        }
      ],
      "source": [
        "import numpy as np\n",
        "import matplotlib.pyplot as plt\n",
        "\n",
        "def inverse_conv(y,h):\n",
        "  L = len(y)\n",
        "  M = len(h)\n",
        "  N = L + 1 - M\n",
        "\n",
        "  x = np.zeros(N)\n",
        "\n",
        "  for i in range(N):\n",
        "    temp = 0\n",
        "    for j in range(1, M):\n",
        "      if(i != 0):\n",
        "        temp += h[j] * x[i-j]\n",
        "      else:\n",
        "        pass\n",
        "\n",
        "    x[i] = (y[i] - temp) / h[0]\n",
        "\n",
        "  return x\n",
        "\n",
        "y = np.array([-8, 10, -15, 4, -8, -9, -2, -8])\n",
        "h = np.array([-2,1,-2])\n",
        "\n",
        "print(inverse_conv(y,h))"
      ]
    },
    {
      "cell_type": "code",
      "source": [
        "def convInputSide(x, h):\n",
        "  #your code here\n",
        "    N = len(x)\n",
        "    M = len(h)\n",
        "    Q = N + M - 1\n",
        "\n",
        "    y = [0] * Q\n",
        "\n",
        "    for i in range(Q):\n",
        "        sum_val = 0\n",
        "        for j in range(N):\n",
        "            if 0 <= i - j < M:\n",
        "                sum_val += x[j] * h[i - j]\n",
        "        y[i] = sum_val\n",
        "\n",
        "    return np.array(y)\n",
        "\n",
        "x = np.array([4, -3, 2, 2, 3, 4])\n",
        "h = np.array([-2,1,-2])\n",
        "\n",
        "print(convInputSide(x,h))"
      ],
      "metadata": {
        "colab": {
          "base_uri": "https://localhost:8080/"
        },
        "id": "r2_fUNA5ydNx",
        "outputId": "7bea3c07-9107-4fd3-e520-4dd86881985b"
      },
      "execution_count": null,
      "outputs": [
        {
          "output_type": "stream",
          "name": "stdout",
          "text": [
            "[ -8  10 -15   4  -8  -9  -2  -8]\n"
          ]
        }
      ]
    },
    {
      "cell_type": "markdown",
      "source": [
        "##Task 2\n",
        "Write a function named forwardDFT() that takes a time domain signal $x$ and the number of points N and returns the frequency domain signal as two separate arrays $ReX$ and $ImX$\n"
      ],
      "metadata": {
        "id": "djdkO6mzs-fg"
      }
    },
    {
      "cell_type": "code",
      "source": [
        "def forwardDFT(x,N):\n",
        "  #your code here\n",
        "  N = len(x)\n",
        "  ReX = np.zeros(N // 2 + 1)\n",
        "  ImX = np.zeros(N // 2 + 1)\n",
        "\n",
        "  PI = np.pi\n",
        "\n",
        "  for k in range(N // 2 + 1):\n",
        "    for i in range(N):\n",
        "      ReX[k] += x[i] * np.cos((2 * PI * k * i) / N)\n",
        "      ImX[k] += -x[i] * np.sin((2 * PI * k * i) / N)\n",
        "\n",
        "  return ReX, ImX\n",
        "\n",
        "x = np.array([11, 6, 20, 2, 40, 10, 43, 20])\n",
        "N = 8\n",
        "ReX, ImX = forwardDFT(x,N)\n",
        "print(ReX)\n",
        "print(ImX)\n",
        "#print(forwardDFT(x,N))"
      ],
      "metadata": {
        "id": "Dtaoyd-xuqnY",
        "colab": {
          "base_uri": "https://localhost:8080/"
        },
        "outputId": "095a10f4-a4e8-46b5-e9dd-01b03f4ef243"
      },
      "execution_count": null,
      "outputs": [
        {
          "output_type": "stream",
          "name": "stdout",
          "text": [
            "[152.         -19.10050506 -12.         -38.89949494  76.        ]\n",
            "[ 0.00000000e+00  3.85563492e+01  6.00000000e+00 -7.44365081e+00\n",
            "  3.13509581e-14]\n"
          ]
        }
      ]
    },
    {
      "cell_type": "markdown",
      "source": [
        "##Task 3\n",
        "Write a function named inverseDFT() that takes a frequency domain signal as two separate arrays $ReX$ and $ImX$ returns the time domain signal $x$."
      ],
      "metadata": {
        "id": "ev18jCt77uAw"
      }
    },
    {
      "cell_type": "code",
      "source": [
        "def inverseDFT(ReX,ImX):\n",
        "  #your code here\n",
        "  M = len(ReX)\n",
        "  N = len(ReX) * 2 - 2\n",
        "  x = np.zeros(N)\n",
        "\n",
        "  PI = np.pi\n",
        "\n",
        "  for i in range(M):\n",
        "    ReX[i] = 2 * ReX[i] / N\n",
        "    ImX[i] = -2 * ImX[i] / N\n",
        "\n",
        "  ReX[0] = ReX[0] / 2\n",
        "  ReX[M-1] = ReX[M-1] / 2\n",
        "\n",
        "  for i in range(N):\n",
        "    for k in range(N // 2 + 1):\n",
        "      x[i] += ReX[k] * np.cos((2 * PI * k * i) / N)\n",
        "      x[i] += ImX[k] * np.sin((2 * PI * k * i) / N)\n",
        "\n",
        "  return x\n",
        "\n",
        "ReX = np.array([152, -19.101, -12, -38.89, 76])\n",
        "ImX = np.array([0, 38.556, 6, -7.44, 0])\n",
        "print(inverseDFT(ReX, ImX))"
      ],
      "metadata": {
        "id": "JMg-4YvcXzoL",
        "colab": {
          "base_uri": "https://localhost:8080/"
        },
        "outputId": "c9808e98-640a-4db7-e2e9-92b362b8bd6e"
      },
      "execution_count": null,
      "outputs": [
        {
          "output_type": "stream",
          "name": "stdout",
          "text": [
            "[11.00225     5.99765037 20.001       2.00118233 39.99775    10.00234963\n",
            " 42.999      19.99881767]\n"
          ]
        }
      ]
    }
  ]
}