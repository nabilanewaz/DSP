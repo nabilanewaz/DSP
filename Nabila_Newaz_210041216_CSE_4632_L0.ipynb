{
  "nbformat": 4,
  "nbformat_minor": 0,
  "metadata": {
    "colab": {
      "provenance": [],
      "include_colab_link": true
    },
    "kernelspec": {
      "name": "python3",
      "display_name": "Python 3"
    },
    "language_info": {
      "name": "python"
    }
  },
  "cells": [
    {
      "cell_type": "markdown",
      "metadata": {
        "id": "view-in-github",
        "colab_type": "text"
      },
      "source": [
        "<a href=\"https://colab.research.google.com/github/nabilanewaz/DSP/blob/main/Nabila_Newaz_210041216_CSE_4632_L0.ipynb\" target=\"_parent\"><img src=\"https://colab.research.google.com/assets/colab-badge.svg\" alt=\"Open In Colab\"/></a>"
      ]
    },
    {
      "cell_type": "markdown",
      "source": [
        "# **Lab 0: Practice Lab**<br>\n",
        "\n",
        "The following tasks serve as practice for creating and manipulating vectors and matrices using python. Write the solution for the tasks in the code cells given under each task. You can start writing your code after the comment \"Your code here\".\n",
        "\n",
        "##Task 1\n",
        "Write python code for each of the following:\n",
        "\n",
        "1. Create a row vector x of equally spaced elements between 2 and 3 with an\n",
        "interval of 0.1.\n",
        "2. Create a second row vector y of the same dimension as x with elements equal\n",
        "to the successive even integers starting with 4.\n",
        "3. Create a matrix A, whose first row is equal to x, second row is a row of 1s,\n",
        "and third row is equal to y.\n",
        "4. Define a row vector cmean, whose elements are equal to the mean of the columns of A.\n",
        "5. Define a row vector rsum, whose elements are the sum of the elements along\n",
        "each row of A.\n",
        "\n",
        "As an example, the solution for the first part is given here in the following code cell. Your task is to fill in the code for the rest of the parts.\n"
      ],
      "metadata": {
        "id": "VkCS009WqVSx"
      }
    },
    {
      "cell_type": "code",
      "execution_count": 10,
      "metadata": {
        "id": "Oi7q7MihqK6X",
        "colab": {
          "base_uri": "https://localhost:8080/"
        },
        "outputId": "e9d2827e-843a-4754-fa91-bef7a5f052f3"
      },
      "outputs": [
        {
          "output_type": "stream",
          "name": "stdout",
          "text": [
            "x = [2.  2.1 2.2 2.3 2.4 2.5 2.6 2.7 2.8 2.9]\n",
            "y = [ 4  6  8 10 12 14 16 18 20 22]\n",
            "A = [[ 2.   2.1  2.2  2.3  2.4  2.5  2.6  2.7  2.8  2.9]\n",
            " [ 1.   1.   1.   1.   1.   1.   1.   1.   1.   1. ]\n",
            " [ 4.   6.   8.  10.  12.  14.  16.  18.  20.  22. ]]\n",
            "cmean = [2.33333333 3.03333333 3.73333333 4.43333333 5.13333333 5.83333333\n",
            " 6.53333333 7.23333333 7.93333333 8.63333333]\n",
            "rsum = [ 24.5  10.  130. ]\n"
          ]
        }
      ],
      "source": [
        "#Your code here\n",
        "import numpy as np\n",
        "\n",
        "#part 1\n",
        "x = np.arange(2,3,0.1)\n",
        "print('x =', x)  #row vector x for part 1\n",
        "\n",
        "#Write code for the rest of the parts here\n",
        "y = np.arange(4, 4 + 2 * len(x), 2)\n",
        "print('y =', y)\n",
        "\n",
        "A = np.array([x, np.ones(len(x)), y])\n",
        "print('A =', A)\n",
        "\n",
        "cmean = np.mean(A, axis=0)\n",
        "print('cmean =', cmean)\n",
        "\n",
        "rsum = np.sum(A, axis=1)\n",
        "print('rsum =', rsum)\n"
      ]
    },
    {
      "cell_type": "markdown",
      "source": [
        "##Task 2\n",
        "Create two matrices A and B where\n",
        "$$\n",
        "A = \\begin{bmatrix}\n",
        "1 & 2\\\\\n",
        "4 & -1\n",
        "\\end{bmatrix},\n",
        "B = \\begin{bmatrix}\n",
        "4 & -2\\\\\n",
        "-6 & 3\n",
        "\\end{bmatrix}\n",
        "$$\n",
        "1. Compute $C_1=A+B$ and $C_2=A-B$.\n",
        "2. Compute the dot products $D_1=A.B$ and $D_2=B.A$\n",
        "3. Using element wise operation, compute the matrix $F$ whose elements are\n",
        "obtained as follows: $f_{i,j}=b_{i,j}+a_{i,j}*b_{i,j}^{1/4}$\n"
      ],
      "metadata": {
        "id": "djdkO6mzs-fg"
      }
    },
    {
      "cell_type": "code",
      "source": [
        "#Your code here\n",
        "A = np.array([[1, 2], [4, -1]])\n",
        "B = np.array([[4, -2], [-6, 3]])\n",
        "\n",
        "C1 = A + B\n",
        "print('C1 =', C1)\n",
        "\n",
        "C2 = A - B\n",
        "print('C2 =', C2)\n",
        "\n",
        "D1 = np.dot(A, B)\n",
        "print('D1 =', D1)\n",
        "\n",
        "D2 = np.dot(B, A)\n",
        "print('D2 =', D2)\n",
        "\n",
        "F = B + np.multiply(A, np.power(B, 1/4))\n",
        "print('F =', F)\n"
      ],
      "metadata": {
        "id": "Dtaoyd-xuqnY",
        "colab": {
          "base_uri": "https://localhost:8080/"
        },
        "outputId": "7048bb75-5010-46bc-8b9e-1171293a9e3a"
      },
      "execution_count": 13,
      "outputs": [
        {
          "output_type": "stream",
          "name": "stdout",
          "text": [
            "C1 = [[ 5  0]\n",
            " [-2  2]]\n",
            "C2 = [[-3  4]\n",
            " [10 -4]]\n",
            "D1 = [[ -8   4]\n",
            " [ 22 -11]]\n",
            "D2 = [[ -4  10]\n",
            " [  6 -15]]\n",
            "F = [[5.41421356        nan]\n",
            " [       nan 1.68392599]]\n"
          ]
        },
        {
          "output_type": "stream",
          "name": "stderr",
          "text": [
            "<ipython-input-13-c490c6501310>:17: RuntimeWarning: invalid value encountered in power\n",
            "  F = B + np.multiply(A, np.power(B, 1/4))\n"
          ]
        }
      ]
    }
  ]
}